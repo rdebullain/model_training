{
 "cells": [
  {
   "cell_type": "markdown",
   "id": "0a70e14a",
   "metadata": {},
   "source": [
    "# Linear Regression\n",
    "\n",
    "We are going back to our _House Price Prediction_ notebook and we will fit a regression there and explore the results.\n",
    "\n",
    "## Predicting House Prices with Linear Regression \n",
    "\n",
    "\n",
    "We finished with DataFrame X with 10 variables. We will fit _linear regression_ to this and explore if all these attributes are significant. There are two main interpretations of _linear regression_ in Python:\n",
    "\n",
    "- statsmodels\n",
    "- sklearn\n"
   ]
  },
  {
   "cell_type": "markdown",
   "id": "762fa482",
   "metadata": {},
   "source": [
    "### statsmodels\n",
    "\n",
    "First of all, we will import `statsmodel` into our notebook:\n",
    "\n",
    "```python\n",
    "import statsmodels.api as sm\n",
    "```\n",
    "\n",
    "We have to add an intercept to our predictive dataset to also estimate the intercept. If we don't do that the intercept will be considered 0.\n",
    "\n",
    "```python\n",
    "X = sm.add_constant(X) # adding a constant\n",
    "```\n"
   ]
  },
  {
   "cell_type": "code",
   "execution_count": 18,
   "id": "38317c70",
   "metadata": {},
   "outputs": [],
   "source": [
    "import pandas as pd\n",
    "\n",
    "X=pd.read_csv('df_final.csv')"
   ]
  },
  {
   "cell_type": "code",
   "execution_count": 19,
   "id": "6aa5c3fb",
   "metadata": {},
   "outputs": [],
   "source": [
    "import statsmodels.api as sm\n",
    "X = sm.add_constant(X)"
   ]
  },
  {
   "cell_type": "code",
   "execution_count": 20,
   "id": "db2cbe62",
   "metadata": {},
   "outputs": [],
   "source": [
    "y=X[['Price']]\n",
    "X=X[['SqFt','Offers','Number_Rooms','Brick_Yes','Neighborhood_East','Neighborhood_North','const']]"
   ]
  },
  {
   "cell_type": "code",
   "execution_count": 21,
   "id": "11462428",
   "metadata": {},
   "outputs": [
    {
     "data": {
      "text/html": [
       "<div>\n",
       "<style scoped>\n",
       "    .dataframe tbody tr th:only-of-type {\n",
       "        vertical-align: middle;\n",
       "    }\n",
       "\n",
       "    .dataframe tbody tr th {\n",
       "        vertical-align: top;\n",
       "    }\n",
       "\n",
       "    .dataframe thead th {\n",
       "        text-align: right;\n",
       "    }\n",
       "</style>\n",
       "<table border=\"1\" class=\"dataframe\">\n",
       "  <thead>\n",
       "    <tr style=\"text-align: right;\">\n",
       "      <th></th>\n",
       "      <th>SqFt</th>\n",
       "      <th>Offers</th>\n",
       "      <th>Number_Rooms</th>\n",
       "      <th>Brick_Yes</th>\n",
       "      <th>Neighborhood_East</th>\n",
       "      <th>Neighborhood_North</th>\n",
       "      <th>const</th>\n",
       "    </tr>\n",
       "  </thead>\n",
       "  <tbody>\n",
       "    <tr>\n",
       "      <th>0</th>\n",
       "      <td>1790</td>\n",
       "      <td>2</td>\n",
       "      <td>4</td>\n",
       "      <td>0</td>\n",
       "      <td>1</td>\n",
       "      <td>0</td>\n",
       "      <td>1.0</td>\n",
       "    </tr>\n",
       "    <tr>\n",
       "      <th>1</th>\n",
       "      <td>2030</td>\n",
       "      <td>3</td>\n",
       "      <td>6</td>\n",
       "      <td>0</td>\n",
       "      <td>1</td>\n",
       "      <td>0</td>\n",
       "      <td>1.0</td>\n",
       "    </tr>\n",
       "    <tr>\n",
       "      <th>2</th>\n",
       "      <td>1740</td>\n",
       "      <td>1</td>\n",
       "      <td>5</td>\n",
       "      <td>0</td>\n",
       "      <td>1</td>\n",
       "      <td>0</td>\n",
       "      <td>1.0</td>\n",
       "    </tr>\n",
       "    <tr>\n",
       "      <th>3</th>\n",
       "      <td>1980</td>\n",
       "      <td>3</td>\n",
       "      <td>5</td>\n",
       "      <td>0</td>\n",
       "      <td>1</td>\n",
       "      <td>0</td>\n",
       "      <td>1.0</td>\n",
       "    </tr>\n",
       "    <tr>\n",
       "      <th>4</th>\n",
       "      <td>2130</td>\n",
       "      <td>3</td>\n",
       "      <td>6</td>\n",
       "      <td>0</td>\n",
       "      <td>1</td>\n",
       "      <td>0</td>\n",
       "      <td>1.0</td>\n",
       "    </tr>\n",
       "    <tr>\n",
       "      <th>...</th>\n",
       "      <td>...</td>\n",
       "      <td>...</td>\n",
       "      <td>...</td>\n",
       "      <td>...</td>\n",
       "      <td>...</td>\n",
       "      <td>...</td>\n",
       "      <td>...</td>\n",
       "    </tr>\n",
       "    <tr>\n",
       "      <th>123</th>\n",
       "      <td>1900</td>\n",
       "      <td>3</td>\n",
       "      <td>6</td>\n",
       "      <td>1</td>\n",
       "      <td>1</td>\n",
       "      <td>0</td>\n",
       "      <td>1.0</td>\n",
       "    </tr>\n",
       "    <tr>\n",
       "      <th>124</th>\n",
       "      <td>2160</td>\n",
       "      <td>3</td>\n",
       "      <td>7</td>\n",
       "      <td>1</td>\n",
       "      <td>1</td>\n",
       "      <td>0</td>\n",
       "      <td>1.0</td>\n",
       "    </tr>\n",
       "    <tr>\n",
       "      <th>125</th>\n",
       "      <td>2070</td>\n",
       "      <td>2</td>\n",
       "      <td>4</td>\n",
       "      <td>0</td>\n",
       "      <td>0</td>\n",
       "      <td>1</td>\n",
       "      <td>1.0</td>\n",
       "    </tr>\n",
       "    <tr>\n",
       "      <th>126</th>\n",
       "      <td>2020</td>\n",
       "      <td>1</td>\n",
       "      <td>6</td>\n",
       "      <td>0</td>\n",
       "      <td>0</td>\n",
       "      <td>0</td>\n",
       "      <td>1.0</td>\n",
       "    </tr>\n",
       "    <tr>\n",
       "      <th>127</th>\n",
       "      <td>2250</td>\n",
       "      <td>4</td>\n",
       "      <td>6</td>\n",
       "      <td>0</td>\n",
       "      <td>0</td>\n",
       "      <td>1</td>\n",
       "      <td>1.0</td>\n",
       "    </tr>\n",
       "  </tbody>\n",
       "</table>\n",
       "<p>128 rows × 7 columns</p>\n",
       "</div>"
      ],
      "text/plain": [
       "     SqFt  Offers  Number_Rooms  Brick_Yes  Neighborhood_East  \\\n",
       "0    1790       2             4          0                  1   \n",
       "1    2030       3             6          0                  1   \n",
       "2    1740       1             5          0                  1   \n",
       "3    1980       3             5          0                  1   \n",
       "4    2130       3             6          0                  1   \n",
       "..    ...     ...           ...        ...                ...   \n",
       "123  1900       3             6          1                  1   \n",
       "124  2160       3             7          1                  1   \n",
       "125  2070       2             4          0                  0   \n",
       "126  2020       1             6          0                  0   \n",
       "127  2250       4             6          0                  0   \n",
       "\n",
       "     Neighborhood_North  const  \n",
       "0                     0    1.0  \n",
       "1                     0    1.0  \n",
       "2                     0    1.0  \n",
       "3                     0    1.0  \n",
       "4                     0    1.0  \n",
       "..                  ...    ...  \n",
       "123                   0    1.0  \n",
       "124                   0    1.0  \n",
       "125                   1    1.0  \n",
       "126                   0    1.0  \n",
       "127                   1    1.0  \n",
       "\n",
       "[128 rows x 7 columns]"
      ]
     },
     "execution_count": 21,
     "metadata": {},
     "output_type": "execute_result"
    }
   ],
   "source": [
    "X"
   ]
  },
  {
   "cell_type": "markdown",
   "id": "1ef2e8c1",
   "metadata": {},
   "source": [
    "Now, we can create a Python object that will represent _linear regression_:\n"
   ]
  },
  {
   "cell_type": "code",
   "execution_count": 22,
   "id": "840f79b8",
   "metadata": {},
   "outputs": [],
   "source": [
    "lin_reg = sm.OLS(y,X)"
   ]
  },
  {
   "cell_type": "markdown",
   "id": "d9f55da1",
   "metadata": {},
   "source": [
    "If we use the `type()` function, we will see that the object `lin_reg` is a linear model with the ordinary least square method.\n",
    "\n",
    "As the next step, we will fit this using our training data and export the summary of the model:"
   ]
  },
  {
   "cell_type": "code",
   "execution_count": 23,
   "id": "e02f44ed",
   "metadata": {},
   "outputs": [
    {
     "name": "stdout",
     "output_type": "stream",
     "text": [
      "                            OLS Regression Results                            \n",
      "==============================================================================\n",
      "Dep. Variable:                  Price   R-squared:                       0.867\n",
      "Model:                            OLS   Adj. R-squared:                  0.860\n",
      "Method:                 Least Squares   F-statistic:                     131.2\n",
      "Date:                Sun, 05 Mar 2023   Prob (F-statistic):           1.56e-50\n",
      "Time:                        19:25:43   Log-Likelihood:                -1357.5\n",
      "No. Observations:                 128   AIC:                             2729.\n",
      "Df Residuals:                     121   BIC:                             2749.\n",
      "Df Model:                           6                                         \n",
      "Covariance Type:            nonrobust                                         \n",
      "======================================================================================\n",
      "                         coef    std err          t      P>|t|      [0.025      0.975]\n",
      "--------------------------------------------------------------------------------------\n",
      "SqFt                  54.0050      5.695      9.482      0.000      42.729      65.281\n",
      "Offers             -8350.9117   1085.761     -7.691      0.000   -1.05e+04   -6201.362\n",
      "Number_Rooms        5626.3368   1187.685      4.737      0.000    3275.001    7977.672\n",
      "Brick_Yes           1.765e+04   1967.357      8.974      0.000    1.38e+04    2.15e+04\n",
      "Neighborhood_East   -2.18e+04   2515.468     -8.668      0.000   -2.68e+04   -1.68e+04\n",
      "Neighborhood_North -2.007e+04   3121.077     -6.430      0.000   -2.62e+04   -1.39e+04\n",
      "const                2.19e+04   1.02e+04      2.139      0.034    1629.906    4.22e+04\n",
      "==============================================================================\n",
      "Omnibus:                        2.498   Durbin-Watson:                   1.938\n",
      "Prob(Omnibus):                  0.287   Jarque-Bera (JB):                1.984\n",
      "Skew:                           0.274   Prob(JB):                        0.371\n",
      "Kurtosis:                       3.268   Cond. No.                     2.37e+04\n",
      "==============================================================================\n",
      "\n",
      "Notes:\n",
      "[1] Standard Errors assume that the covariance matrix of the errors is correctly specified.\n",
      "[2] The condition number is large, 2.37e+04. This might indicate that there are\n",
      "strong multicollinearity or other numerical problems.\n"
     ]
    }
   ],
   "source": [
    "model = lin_reg.fit()\n",
    "print_model = model.summary()\n",
    "print(print_model)"
   ]
  },
  {
   "cell_type": "markdown",
   "id": "dfed179e",
   "metadata": {},
   "source": [
    "Now, let's to the same linear Regression model with Sklearn library\n",
    "\n",
    "We need to import our model first:\n",
    "\n",
    "```python\n",
    "from sklearn.linear_model import LinearRegression\n",
    "```\n",
    "\n",
    "Then we initialize the object and fit the model on our data:\n"
   ]
  },
  {
   "cell_type": "code",
   "execution_count": 24,
   "id": "e11c239b",
   "metadata": {},
   "outputs": [
    {
     "data": {
      "text/html": [
       "<style>#sk-container-id-1 {color: black;background-color: white;}#sk-container-id-1 pre{padding: 0;}#sk-container-id-1 div.sk-toggleable {background-color: white;}#sk-container-id-1 label.sk-toggleable__label {cursor: pointer;display: block;width: 100%;margin-bottom: 0;padding: 0.3em;box-sizing: border-box;text-align: center;}#sk-container-id-1 label.sk-toggleable__label-arrow:before {content: \"▸\";float: left;margin-right: 0.25em;color: #696969;}#sk-container-id-1 label.sk-toggleable__label-arrow:hover:before {color: black;}#sk-container-id-1 div.sk-estimator:hover label.sk-toggleable__label-arrow:before {color: black;}#sk-container-id-1 div.sk-toggleable__content {max-height: 0;max-width: 0;overflow: hidden;text-align: left;background-color: #f0f8ff;}#sk-container-id-1 div.sk-toggleable__content pre {margin: 0.2em;color: black;border-radius: 0.25em;background-color: #f0f8ff;}#sk-container-id-1 input.sk-toggleable__control:checked~div.sk-toggleable__content {max-height: 200px;max-width: 100%;overflow: auto;}#sk-container-id-1 input.sk-toggleable__control:checked~label.sk-toggleable__label-arrow:before {content: \"▾\";}#sk-container-id-1 div.sk-estimator input.sk-toggleable__control:checked~label.sk-toggleable__label {background-color: #d4ebff;}#sk-container-id-1 div.sk-label input.sk-toggleable__control:checked~label.sk-toggleable__label {background-color: #d4ebff;}#sk-container-id-1 input.sk-hidden--visually {border: 0;clip: rect(1px 1px 1px 1px);clip: rect(1px, 1px, 1px, 1px);height: 1px;margin: -1px;overflow: hidden;padding: 0;position: absolute;width: 1px;}#sk-container-id-1 div.sk-estimator {font-family: monospace;background-color: #f0f8ff;border: 1px dotted black;border-radius: 0.25em;box-sizing: border-box;margin-bottom: 0.5em;}#sk-container-id-1 div.sk-estimator:hover {background-color: #d4ebff;}#sk-container-id-1 div.sk-parallel-item::after {content: \"\";width: 100%;border-bottom: 1px solid gray;flex-grow: 1;}#sk-container-id-1 div.sk-label:hover label.sk-toggleable__label {background-color: #d4ebff;}#sk-container-id-1 div.sk-serial::before {content: \"\";position: absolute;border-left: 1px solid gray;box-sizing: border-box;top: 0;bottom: 0;left: 50%;z-index: 0;}#sk-container-id-1 div.sk-serial {display: flex;flex-direction: column;align-items: center;background-color: white;padding-right: 0.2em;padding-left: 0.2em;position: relative;}#sk-container-id-1 div.sk-item {position: relative;z-index: 1;}#sk-container-id-1 div.sk-parallel {display: flex;align-items: stretch;justify-content: center;background-color: white;position: relative;}#sk-container-id-1 div.sk-item::before, #sk-container-id-1 div.sk-parallel-item::before {content: \"\";position: absolute;border-left: 1px solid gray;box-sizing: border-box;top: 0;bottom: 0;left: 50%;z-index: -1;}#sk-container-id-1 div.sk-parallel-item {display: flex;flex-direction: column;z-index: 1;position: relative;background-color: white;}#sk-container-id-1 div.sk-parallel-item:first-child::after {align-self: flex-end;width: 50%;}#sk-container-id-1 div.sk-parallel-item:last-child::after {align-self: flex-start;width: 50%;}#sk-container-id-1 div.sk-parallel-item:only-child::after {width: 0;}#sk-container-id-1 div.sk-dashed-wrapped {border: 1px dashed gray;margin: 0 0.4em 0.5em 0.4em;box-sizing: border-box;padding-bottom: 0.4em;background-color: white;}#sk-container-id-1 div.sk-label label {font-family: monospace;font-weight: bold;display: inline-block;line-height: 1.2em;}#sk-container-id-1 div.sk-label-container {text-align: center;}#sk-container-id-1 div.sk-container {/* jupyter's `normalize.less` sets `[hidden] { display: none; }` but bootstrap.min.css set `[hidden] { display: none !important; }` so we also need the `!important` here to be able to override the default hidden behavior on the sphinx rendered scikit-learn.org. See: https://github.com/scikit-learn/scikit-learn/issues/21755 */display: inline-block !important;position: relative;}#sk-container-id-1 div.sk-text-repr-fallback {display: none;}</style><div id=\"sk-container-id-1\" class=\"sk-top-container\"><div class=\"sk-text-repr-fallback\"><pre>LinearRegression()</pre><b>In a Jupyter environment, please rerun this cell to show the HTML representation or trust the notebook. <br />On GitHub, the HTML representation is unable to render, please try loading this page with nbviewer.org.</b></div><div class=\"sk-container\" hidden><div class=\"sk-item\"><div class=\"sk-estimator sk-toggleable\"><input class=\"sk-toggleable__control sk-hidden--visually\" id=\"sk-estimator-id-1\" type=\"checkbox\" checked><label for=\"sk-estimator-id-1\" class=\"sk-toggleable__label sk-toggleable__label-arrow\">LinearRegression</label><div class=\"sk-toggleable__content\"><pre>LinearRegression()</pre></div></div></div></div></div>"
      ],
      "text/plain": [
       "LinearRegression()"
      ]
     },
     "execution_count": 24,
     "metadata": {},
     "output_type": "execute_result"
    }
   ],
   "source": [
    "from sklearn.linear_model import LinearRegression\n",
    "\n",
    "regressor = LinearRegression()\n",
    "regressor.fit(X, y)\n"
   ]
  },
  {
   "cell_type": "markdown",
   "id": "f802d8be",
   "metadata": {},
   "source": [
    "We should see a summary like this:\n",
    "\n",
    "```\n",
    "LinearRegression(copy_X=True, fit_intercept=True, n_jobs=None, normalize=False)\n",
    "```\n",
    "\n",
    "This gives us an overview of the parameters we can set up for _linear regression_ in sklearn. The most important one is `fit_intercept`. In `sklearn`, we don't have to add a constant to a dataset. We have to set this parameter to the value `True` if we want to compute an intercept as well. \n",
    "\n",
    "We can check the beta coefficient now:\n"
   ]
  },
  {
   "cell_type": "code",
   "execution_count": 26,
   "id": "bc97d504",
   "metadata": {},
   "outputs": [
    {
     "name": "stdout",
     "output_type": "stream",
     "text": [
      "[[    54.00500003  -8350.9116557    5626.33680408  17654.58036008\n",
      "  -21803.04411941 -20067.94595903      0.        ]]\n"
     ]
    }
   ],
   "source": [
    "print(regressor.coef_)"
   ]
  },
  {
   "cell_type": "markdown",
   "id": "b6c8d4d0",
   "metadata": {},
   "source": [
    "This will show us a NumPy array with beta coefficients. They have the same order as our columns in X. the last one is 0 because we have added a constant column before `statsmodel` modeling. This column doesn't have any meaning asmeaning is `sklearn` so we could have dropped that before.\n",
    "\n",
    "We can see that the results look much nicer in the `statsmodel` package. Another huge disadvantage of `sklearn` is that we don't have access to p-values, so we cannot check the importance of different variables for prediction. \n",
    "\n",
    "If we want to know the R-squared, we can get it with:\n"
   ]
  },
  {
   "cell_type": "code",
   "execution_count": 27,
   "id": "af0bb6cc",
   "metadata": {},
   "outputs": [
    {
     "data": {
      "text/plain": [
       "0.8668096918895594"
      ]
     },
     "execution_count": 27,
     "metadata": {},
     "output_type": "execute_result"
    }
   ],
   "source": [
    "regressor.score(X,y)"
   ]
  },
  {
   "cell_type": "markdown",
   "id": "97df2ff3",
   "metadata": {},
   "source": [
    "The advantage of the `sklearn` implementation is that it is consistent with all other methods and models in this library. We will be using many of them soon.\n",
    "\n",
    "## Conclusion\n",
    "\n",
    "We have compared two implementations of _linear regression_ in Python, `statsmodel` and `sklearn`, and saw their respective advantages and disadvantages.\n",
    "\n"
   ]
  },
  {
   "cell_type": "code",
   "execution_count": null,
   "id": "7d2710a5",
   "metadata": {},
   "outputs": [],
   "source": []
  }
 ],
 "metadata": {
  "kernelspec": {
   "display_name": "Python 3 (ipykernel)",
   "language": "python",
   "name": "python3"
  },
  "language_info": {
   "codemirror_mode": {
    "name": "ipython",
    "version": 3
   },
   "file_extension": ".py",
   "mimetype": "text/x-python",
   "name": "python",
   "nbconvert_exporter": "python",
   "pygments_lexer": "ipython3",
   "version": "3.8.16"
  }
 },
 "nbformat": 4,
 "nbformat_minor": 5
}
